{
 "cells": [
  {
   "cell_type": "code",
   "execution_count": null,
   "id": "5728be1e-af8b-4462-85ba-f17f1aea7410",
   "metadata": {},
   "outputs": [],
   "source": [
    "\"\n",
    "    用于安装仿真环境所需的库\n",
    "\"\n",
    "import Pkg \n",
    "Pkg.status()"
   ]
  },
  {
   "cell_type": "code",
   "execution_count": null,
   "id": "a24626ac-4666-49e3-8862-74d08c858592",
   "metadata": {},
   "outputs": [],
   "source": [
    "Pkg.activate(@__DIR__)\n",
    "Pkg.add(\"BenchmarkTools\")\n",
    "Pkg.add(\"ControlSystems\")\n",
    "Pkg.add(\"Plots\")"
   ]
  },
  {
   "cell_type": "code",
   "execution_count": null,
   "id": "99645d7d-93ee-46ec-881a-dc08a3d277aa",
   "metadata": {},
   "outputs": [],
   "source": [
    "Pkg.instantiate()"
   ]
  }
 ],
 "metadata": {
  "kernelspec": {
   "display_name": "Julia 1.10.8",
   "language": "julia",
   "name": "julia-1.10"
  },
  "language_info": {
   "file_extension": ".jl",
   "mimetype": "application/julia",
   "name": "julia",
   "version": "1.10.8"
  }
 },
 "nbformat": 4,
 "nbformat_minor": 5
}
