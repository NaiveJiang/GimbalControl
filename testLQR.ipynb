{
 "cells": [
  {
   "cell_type": "code",
   "execution_count": null,
   "id": "1e7c2cba-9221-42af-a680-c54d0c502b7e",
   "metadata": {},
   "outputs": [],
   "source": [
    "import Pkg \n",
    "Pkg.status()"
   ]
  },
  {
   "cell_type": "code",
   "execution_count": null,
   "id": "e889a18e-bffb-482e-8ff3-71530d782074",
   "metadata": {},
   "outputs": [],
   "source": [
    "Pkg.activate(@__DIR__)\n",
    "Pkg.instantiate()\n",
    "using LinearAlgebra, Plots, ControlSystems"
   ]
  },
  {
   "cell_type": "code",
   "execution_count": null,
   "id": "c0265c3a-3731-4cf8-9a98-35127cff32bf",
   "metadata": {},
   "outputs": [],
   "source": [
    "# 系统参数\n",
    "J = 7.23e-4    # 转动惯量 (kg·m²)\n",
    "dt = 0.001   # 采样时间 (s)\n",
    "sim_time = 2.0  # 仿真总时长\n",
    "θ = 60.0"
   ]
  },
  {
   "cell_type": "code",
   "execution_count": null,
   "id": "3bf62ddb-7c99-4083-9067-990d239e6632",
   "metadata": {},
   "outputs": [],
   "source": [
    "# 连续时间状态空间模型\n",
    "A = [0.0 1.0;\n",
    "     0.0 0.0]\n",
    "B = [0.0;\n",
    "     1/J]\n",
    "C = [1.0 0.0;   # 观测角度\n",
    "     0.0 1.0]   # 观测角速度\n",
    "D = [0.0;\n",
    "     0.0]"
   ]
  },
  {
   "cell_type": "code",
   "execution_count": null,
   "id": "c1b7466a-dc74-4662-a99c-e51144627a24",
   "metadata": {},
   "outputs": [],
   "source": [
    "sys_cont = ss(A, B, C, D)  # 创建连续系统\n",
    "\n",
    "# 离散化系统（零阶保持）\n",
    "sys_dis = c2d(sys_cont, dt, :zoh)"
   ]
  },
  {
   "cell_type": "code",
   "execution_count": null,
   "id": "ae895047-af5a-4f35-87e1-9fdae0e2eb2b",
   "metadata": {},
   "outputs": [],
   "source": [
    "# LQR权重矩阵\n",
    "Q = diagm([50000.0, 100.0])  # 状态权重 [角度, 角速度]\n",
    "R = diagm([0.1])               # 控制输入权重"
   ]
  },
  {
   "cell_type": "code",
   "execution_count": null,
   "id": "b1c95129-49c4-4cc2-bbad-d611d3c0df44",
   "metadata": {},
   "outputs": [],
   "source": [
    "# 设计离散LQR控制器\n",
    "K = dlqr(sys_dis.A, sys_dis.B, Q, R)"
   ]
  },
  {
   "cell_type": "code",
   "execution_count": null,
   "id": "808c50ea-1794-418c-83e0-b91b15922177",
   "metadata": {},
   "outputs": [],
   "source": [
    "# 闭环系统矩阵\n",
    "A_cl = sys_dis.A - sys_dis.B*K"
   ]
  },
  {
   "cell_type": "code",
   "execution_count": null,
   "id": "a9e88de3-83cd-4423-8c08-129054a80f8a",
   "metadata": {},
   "outputs": [],
   "source": [
    "# 仿真参数\n",
    "t_steps = 0:dt:sim_time\n",
    "N = length(t_steps)\n",
    "x0 = [0.0, 0.0]  # 初始状态\n",
    "xd = [θ*pi/180.0;0.0] #目标状态\n",
    "\n",
    "@show uff = (pinv(I-sys_dis.A)*sys_dis.B)\\xd\n",
    "\n",
    "# 初始化存储数组\n",
    "x_hist = zeros(2, N)\n",
    "x_hist_ff = zeros(2, N)\n",
    "u_hist = zeros(N-1)\n",
    "u_hist_ff = zeros(N-1)\n",
    "ref_hist = zeros(2, N)\n",
    "x_hist[:, 1] = x0\n",
    "x_hist_ff[:, 1] = x0\n",
    "ref_hist[:, 1] = xd"
   ]
  },
  {
   "cell_type": "code",
   "execution_count": null,
   "id": "a552be1c-fc74-4237-bdc5-eff9f1889ae0",
   "metadata": {},
   "outputs": [],
   "source": [
    "# 运行闭环仿真\n",
    "for i in 1:N-1\n",
    "    Δx1 = x_hist[:, i] - ref_hist[:, i]\n",
    "    Δx2 = x_hist_ff[:, i] - ref_hist[:, i]\n",
    "    u1 = -K * Δx1\n",
    "    u2 = uff - K * Δx2\n",
    "    x_hist[:, i+1] = sys_dis.A * x_hist[:, i] + sys_dis.B * u1\n",
    "    x_hist_ff[:, i+1] = sys_dis.A * x_hist_ff[:, i] + sys_dis.B * u2\n",
    "    ref_hist[:, i+1] = ref_hist[:, i]\n",
    "    u_hist[i] = u1[1]\n",
    "    u_hist_ff[i] = u2[1]\n",
    "end"
   ]
  },
  {
   "cell_type": "code",
   "execution_count": null,
   "id": "02f11db8-2f45-46b4-aba4-e91f3ad94df1",
   "metadata": {},
   "outputs": [],
   "source": [
    "# 绘制结果\n",
    "p1 = plot(t_steps, x_hist[1, :], label=\"θ (rad)\", xlabel=\"Time (s)\", ylabel=\"Angle\")\n",
    "plot!(t_steps, x_hist_ff[1, :], label=\"θff (rad)\")\n",
    "plot!(t_steps, ref_hist[1, :], label=\"θd (rad)\")\n",
    "p2 = plot(t_steps, x_hist[2, :], label=\"ω (rad/s)\", xlabel=\"Time (s)\", ylabel=\"Angular Velocity\")\n",
    "plot!(t_steps, x_hist_ff[2, :], label=\"ωff (rad/s)\")\n",
    "p3 = plot(t_steps[1:end-1], u_hist, label=\"Control Torque\", xlabel=\"Time (s)\", ylabel=\"Torque (Nm)\")\n",
    "plot!(t_steps[1:end-1], u_hist_ff, label=\"Control Torque with feedforword\")\n",
    "plot(p1, p2, p3, layout=(3,1), size=(800,600))"
   ]
  }
 ],
 "metadata": {
  "kernelspec": {
   "display_name": "Julia 1.10.8",
   "language": "julia",
   "name": "julia-1.10"
  },
  "language_info": {
   "file_extension": ".jl",
   "mimetype": "application/julia",
   "name": "julia",
   "version": "1.10.8"
  }
 },
 "nbformat": 4,
 "nbformat_minor": 5
}
